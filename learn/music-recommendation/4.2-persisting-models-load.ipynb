{
 "cells": [
  {
   "cell_type": "code",
   "execution_count": 5,
   "id": "59c20ea8",
   "metadata": {},
   "outputs": [
    {
     "data": {
      "text/plain": [
       "array(['HipHop', 'Dance'], dtype=object)"
      ]
     },
     "execution_count": 5,
     "metadata": {},
     "output_type": "execute_result"
    }
   ],
   "source": [
    "# importing the panda library as pd\n",
    "import pandas as pd\n",
    "# importing DecisionTreeClassifier algorithm from sklearn\n",
    "from sklearn.tree import DecisionTreeClassifier\n",
    "# import joblib to dump and load models\n",
    "import joblib\n",
    "\n",
    "# load our model\n",
    "model = joblib.load('music-recommender.joblib')\n",
    "\n",
    "# We make the model make predictions\n",
    "predictions = model.predict([ [21, 1], [22, 0]])"
   ]
  },
  {
   "cell_type": "code",
   "execution_count": null,
   "id": "60f74ae6",
   "metadata": {},
   "outputs": [],
   "source": []
  }
 ],
 "metadata": {
  "kernelspec": {
   "display_name": "Python 3 (ipykernel)",
   "language": "python",
   "name": "python3"
  },
  "language_info": {
   "codemirror_mode": {
    "name": "ipython",
    "version": 3
   },
   "file_extension": ".py",
   "mimetype": "text/x-python",
   "name": "python",
   "nbconvert_exporter": "python",
   "pygments_lexer": "ipython3",
   "version": "3.10.5"
  }
 },
 "nbformat": 4,
 "nbformat_minor": 5
}
