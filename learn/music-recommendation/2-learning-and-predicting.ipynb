{
 "cells": [
  {
   "cell_type": "code",
   "execution_count": 3,
   "id": "12e91206",
   "metadata": {},
   "outputs": [
    {
     "data": {
      "text/plain": [
       "array(['HipHop', 'Dance'], dtype=object)"
      ]
     },
     "execution_count": 3,
     "metadata": {},
     "output_type": "execute_result"
    }
   ],
   "source": [
    "# importing the panda library as pd\n",
    "import pandas as pd\n",
    "# importing DecisionTreeClassifier algorithm from sklearn\n",
    "from sklearn.tree import DecisionTreeClassifier\n",
    "\n",
    "\n",
    "# reading the csv music file and assigning it to variable @music_data\n",
    "music_data = pd.read_csv('music.csv')\n",
    "\n",
    "# spliting the data into input and output,\n",
    "# age and gender as the input assigned to x and genre as the output assigned to y\n",
    "x = music_data.drop(columns=['genre'])\n",
    "y = music_data['genre']\n",
    "\n",
    "model = DecisionTreeClassifier()\n",
    "# Training the model\n",
    "model.fit(x.values, y.values)\n",
    "\n",
    "# We make the model make predictions\n",
    "predictions = model.predict([ [21, 1], [22, 0]])"
   ]
  },
  {
   "cell_type": "code",
   "execution_count": null,
   "id": "91182758",
   "metadata": {},
   "outputs": [],
   "source": []
  }
 ],
 "metadata": {
  "kernelspec": {
   "display_name": "Python 3 (ipykernel)",
   "language": "python",
   "name": "python3"
  },
  "language_info": {
   "codemirror_mode": {
    "name": "ipython",
    "version": 3
   },
   "file_extension": ".py",
   "mimetype": "text/x-python",
   "name": "python",
   "nbconvert_exporter": "python",
   "pygments_lexer": "ipython3",
   "version": "3.10.5"
  }
 },
 "nbformat": 4,
 "nbformat_minor": 5
}
