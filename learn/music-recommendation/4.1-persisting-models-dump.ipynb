{
 "cells": [
  {
   "cell_type": "code",
   "execution_count": 2,
   "id": "51ab5e02",
   "metadata": {},
   "outputs": [
    {
     "data": {
      "text/plain": [
       "['music-recommender.joblib']"
      ]
     },
     "execution_count": 2,
     "metadata": {},
     "output_type": "execute_result"
    }
   ],
   "source": [
    "# importing the panda library as pd\n",
    "import pandas as pd\n",
    "# importing DecisionTreeClassifier algorithm from sklearn\n",
    "from sklearn.tree import DecisionTreeClassifier\n",
    "# import joblib to dump and load models\n",
    "import joblib\n",
    "\n",
    "# reading the csv music file and assigning it to variable @music_data\n",
    "music_data = pd.read_csv('music.csv')\n",
    "\n",
    "# spliting the data into input and output,\n",
    "# age and gender as the input assigned to x and genre as the output assigned to y\n",
    "x = music_data.drop(columns=['genre'])\n",
    "y = music_data['genre']\n",
    "\n",
    "model = DecisionTreeClassifier()\n",
    "# Training the model\n",
    "model.fit(x.values, y.values)\n",
    "\n",
    "# save our model\n",
    "joblib.dump(model, 'music-recommender.joblib')"
   ]
  },
  {
   "cell_type": "code",
   "execution_count": null,
   "id": "24f789c4",
   "metadata": {},
   "outputs": [],
   "source": []
  }
 ],
 "metadata": {
  "kernelspec": {
   "display_name": "Python 3 (ipykernel)",
   "language": "python",
   "name": "python3"
  },
  "language_info": {
   "codemirror_mode": {
    "name": "ipython",
    "version": 3
   },
   "file_extension": ".py",
   "mimetype": "text/x-python",
   "name": "python",
   "nbconvert_exporter": "python",
   "pygments_lexer": "ipython3",
   "version": "3.10.5"
  }
 },
 "nbformat": 4,
 "nbformat_minor": 5
}
