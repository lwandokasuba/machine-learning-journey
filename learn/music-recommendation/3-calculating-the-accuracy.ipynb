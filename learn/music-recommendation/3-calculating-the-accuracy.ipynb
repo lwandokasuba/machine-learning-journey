{
 "cells": [
  {
   "cell_type": "code",
   "execution_count": 27,
   "id": "3c4cc337",
   "metadata": {},
   "outputs": [
    {
     "data": {
      "text/plain": [
       "1.0"
      ]
     },
     "execution_count": 27,
     "metadata": {},
     "output_type": "execute_result"
    }
   ],
   "source": [
    "# importing the panda library as pd\n",
    "import pandas as pd\n",
    "# importing DecisionTreeClassifier algorithm from sklearn\n",
    "from sklearn.tree import DecisionTreeClassifier\n",
    "# importing the train_test_split function for splitting our dataset into two sets, for training and testing\n",
    "from sklearn.model_selection import train_test_split\n",
    "# importing a function to help check the accuracy\n",
    "from sklearn.metrics import accuracy_score\n",
    "\n",
    "\n",
    "# reading the csv music file and assigning it to variable @music_data\n",
    "music_data = pd.read_csv('music.csv')\n",
    "\n",
    "# spliting the data into input and output,\n",
    "# age and gender as the input assigned to x and genre as the output assigned to y\n",
    "x = music_data.drop(columns=['genre'])\n",
    "y = music_data['genre']\n",
    "\n",
    "# splitting the data into train data and test data for input and output\n",
    "x_train, x_test, y_train, y_test = train_test_split(x, y, test_size=0.2)\n",
    "\n",
    "model = DecisionTreeClassifier()\n",
    "\n",
    "# Training the model\n",
    "model.fit(x_train.values, y_train.values)\n",
    "\n",
    "# We make the model make predictions using the input test data\n",
    "predictions = model.predict(x_test.values)\n",
    "\n",
    "# check the accuracy of our predictions using the (expected values) output test data\n",
    "score = accuracy_score(y_test, predictions)\n",
    "score"
   ]
  },
  {
   "cell_type": "code",
   "execution_count": null,
   "id": "18879fb4",
   "metadata": {},
   "outputs": [],
   "source": []
  }
 ],
 "metadata": {
  "kernelspec": {
   "display_name": "Python 3 (ipykernel)",
   "language": "python",
   "name": "python3"
  },
  "language_info": {
   "codemirror_mode": {
    "name": "ipython",
    "version": 3
   },
   "file_extension": ".py",
   "mimetype": "text/x-python",
   "name": "python",
   "nbconvert_exporter": "python",
   "pygments_lexer": "ipython3",
   "version": "3.10.5"
  }
 },
 "nbformat": 4,
 "nbformat_minor": 5
}
